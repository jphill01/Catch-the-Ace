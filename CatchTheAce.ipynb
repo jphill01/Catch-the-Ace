{
  "nbformat": 4,
  "nbformat_minor": 0,
  "metadata": {
    "colab": {
      "name": "CatchTheAce.ipynb",
      "provenance": [],
      "collapsed_sections": [],
      "authorship_tag": "ABX9TyOpj4X9YvXr//9bvs9bj3v0",
      "include_colab_link": true
    },
    "kernelspec": {
      "name": "python3",
      "display_name": "Python 3"
    },
    "language_info": {
      "name": "python"
    }
  },
  "cells": [
    {
      "cell_type": "markdown",
      "metadata": {
        "id": "view-in-github",
        "colab_type": "text"
      },
      "source": [
        "<a href=\"https://colab.research.google.com/github/jphill01/Catch-the-Ace/blob/master/CatchTheAce.ipynb\" target=\"_parent\"><img src=\"https://colab.research.google.com/assets/colab-badge.svg\" alt=\"Open In Colab\"/></a>"
      ]
    },
    {
      "cell_type": "code",
      "execution_count": null,
      "metadata": {
        "id": "mAofvwiUVLyx"
      },
      "outputs": [],
      "source": [
        "import numpy as np\n",
        "import random as rnd"
      ]
    },
    {
      "cell_type": "code",
      "source": [
        "cards = [\"Ace of Clubs\",\n",
        "        \"Ace of Diamonds\",\n",
        "        \"Ace of Hearts\",\n",
        "        \"Ace of Spades\",\n",
        "        \"2 of Clubs\",\n",
        "        \"2 of Diamonds\",\n",
        "        \"2 of Hearts\",\n",
        "        \"2 of Spades\",\n",
        "        \"3 of Clubs\",\n",
        "        \"3 of Diamonds\",\n",
        "        \"3 of Hearts\",\n",
        "        \"3 of Spades\",\n",
        "        \"4 of Clubs\",\n",
        "        \"4 of Diamonds\",\n",
        "        \"4 of Hearts\",\n",
        "        \"4 of Spades\",\n",
        "        \"5 of Clubs\",\n",
        "        \"5 of Diamonds\",\n",
        "        \"5 of Hearts\",\n",
        "        \"5 of Spades\",\n",
        "        \"6 of Clubs\",\n",
        "        \"6 of Diamonds\",\n",
        "        \"6 of Hearts\",\n",
        "        \"6 of Spades\",\n",
        "        \"7 of Clubs\",\n",
        "        \"7 of Diamonds\",\n",
        "        \"7 of Hearts\",\n",
        "        \"7 of Spades\",\n",
        "        \"8 of Clubs\",\n",
        "        \"8 of Diamonds\",\n",
        "        \"8 of Hearts\",\n",
        "        \"8 of Spades\",\n",
        "        \"9 of Clubs\",\n",
        "        \"9 of Diamonds\",\n",
        "        \"9 of Hearts\",\n",
        "        \"9 of Spades\",\n",
        "        \"10 of Clubs\",\n",
        "        \"10 of Diamonds\",\n",
        "        \"10 of Hearts\",\n",
        "        \"10 of Spades\",\n",
        "        \"Jack of Clubs\",\n",
        "        \"Jack of Diamonds\",\n",
        "        \"Jack of Hearts\",\n",
        "        \"Jack of Spades\",\n",
        "        \"King of Clubs\",\n",
        "        \"King of Diamonds\",\n",
        "        \"King of Hearts\",\n",
        "        \"King of Spades\",\n",
        "        \"Queen of Clubs\",\n",
        "        \"Queen of Diamonds\",\n",
        "        \"Queen of Hearts\",\n",
        "        \"Queen of Spades\"]\n",
        "\n",
        "ticket_price = 5 # price per ticket\n",
        "max_num_tickets = np.random.randint(1, 1000, 1) # maximum number of tickets sold\n",
        "\n",
        "week = 0 # initialize counter\n",
        "payoff = 0 # initialize weekly winnings\n",
        "jackpot = 0 # initialize progressive jackpot\n",
        "\n",
        "while(week < 52):\n",
        "    week += 1 # increment counter\n",
        "    tickets = np.random.randint(max_num_tickets + 1, size = 1) # random number of tickets sold\n",
        "    fill_envelopes = np.random.choice(cards, size = len(cards), replace = False) # assign cards to envelopes\n",
        "    pick_ticket = np.random.randint(tickets + 1, size = 1) # select random ticket\n",
        "    pick_envelope = np.random.choice(fill_envelopes, size = 1) # choose random envelope\n",
        "    cards = [card for card in cards if card not in pick_envelope] # remove selected card\n",
        "    payoff = tickets * ticket_price # ticket sales\n",
        "    jackpot = jackpot + (0.30 * payoff) # update weekly winnings; 30% of ticket sales goes into jackpot\n",
        "\n",
        "    print(\"\\n Week: \", week,\n",
        "        \"\\n Ticket number: \", pick_ticket,\n",
        "        \"\\n Card selected: \", pick_envelope)\n",
        "    \n",
        "    if (\"Ace of Spades\" in pick_envelope):\n",
        "      print(\"\\n Outcome: Congratulations, you've selected the Ace of Spades! You've won the progressive jackpot! \\n Jackpot: $\",jackpot, \"\\n \\n\") \n",
        "      break\n",
        "    else:\n",
        "      print(\"\\n Outcome: Sorry, you didn't select the Ace of Spades! Better luck next time! \\n Payoff: $\",(0.20 * payoff)) # 20% of ticket sales goes to winning ticket holder each week  \n",
        "\n",
        "    print(\"\\n Proceeds donated to charity: $\",(0.50 * payoff), \"\\n \\n\") # 50% of all ticket sales goes to charity\n",
        "\n",
        "    cards = cards # reset deck\n",
        "    "
      ],
      "metadata": {
        "id": "G4B5fEMeVb8n"
      },
      "execution_count": null,
      "outputs": []
    }
  ]
}